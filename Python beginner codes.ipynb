{
 "cells": [
  {
   "cell_type": "code",
   "execution_count": null,
   "source": [
    "#Python program to check if a number is prime or not\r\n",
    "nb = int(input())\r\n",
    "if nb < 1:\r\n",
    "    print(\"Please enter a positive number greater than 1\")\r\n",
    "else:\r\n",
    "    for i in range(2, int(nb/2)+1):\r\n",
    "        if(nb%i) == 0:\r\n",
    "            print(\"False\")\r\n",
    "            break\r\n",
    "        else:\r\n",
    "            print(\"True\")"
   ],
   "outputs": [],
   "metadata": {}
  },
  {
   "cell_type": "code",
   "execution_count": null,
   "source": [
    "#Python program to give a list of prime number from 0 to a given number N\r\n",
    "def prime_num(nb):\r\n",
    "    for i in range(2, int(nb/2)+1):\r\n",
    "        if(nb%i) == 0:\r\n",
    "            return False\r\n",
    "    else:\r\n",
    "        return True\r\n",
    "    \r\n",
    "nb=1\r\n",
    "while nb !=0:\r\n",
    "    nb = int(input())\r\n",
    "    if nb < 1:\r\n",
    "        print(\"Enter a positive number great than 1\")\r\n",
    "    prime = tuple([x for x in range(2, nb+1) if prime_num(x)])\r\n",
    "    print(prime)\r\n",
    "    print(\"Type a new number to continue or type 0 to stop!\")"
   ],
   "outputs": [],
   "metadata": {}
  },
  {
   "cell_type": "code",
   "execution_count": null,
   "source": [
    "#Python program to determine if all numbers in a given sequence S are unique.\r\n",
    "\r\n",
    "#Funtion to make the check\r\n",
    "def unique_elements_only(data_list):\r\n",
    " if len(data_list) == len(set(data_list)):\r\n",
    "   return True\r\n",
    " else:\r\n",
    "   return False;\r\n",
    "\r\n",
    "#list to be checked\r\n",
    "data_list = []\r\n",
    "\r\n",
    "#size of the list to be given by the user\r\n",
    "n = int(input(\"Enter number of elements : \"))\r\n",
    " \r\n",
    "#loop to fill in the list\r\n",
    "for i in range(0, n):\r\n",
    "    list_element = int(input(f\"element {i+1}: \"))\r\n",
    "    data_list.append(list_element)\r\n",
    "\r\n",
    "#call the function unique_elements_only to check if all elements of the lit data_list are unique\r\n",
    "print(unique_elements_only(data_list))"
   ],
   "outputs": [],
   "metadata": {}
  }
 ],
 "metadata": {
  "kernelspec": {
   "display_name": "Python 3",
   "language": "python",
   "name": "python3"
  },
  "language_info": {
   "codemirror_mode": {
    "name": "ipython",
    "version": 3
   },
   "file_extension": ".py",
   "mimetype": "text/x-python",
   "name": "python",
   "nbconvert_exporter": "python",
   "pygments_lexer": "ipython3",
   "version": "3.6.9"
  }
 },
 "nbformat": 4,
 "nbformat_minor": 4
}